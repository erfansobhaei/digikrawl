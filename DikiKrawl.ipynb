{
 "cells": [
  {
   "cell_type": "markdown",
   "metadata": {},
   "source": [
    "# DigiKrawl: DigiKala Comment Crawler"
   ]
  },
  {
   "cell_type": "markdown",
   "metadata": {},
   "source": [
    "## Prerequisites"
   ]
  },
  {
   "cell_type": "markdown",
   "metadata": {},
   "source": [
    "The following code snippet import required third-party libraries:\n",
    "+ `requests` for sending HTTP requests to DigiKala server\n",
    "+ `bs4` for parsing and crawling HTTP responses\n",
    "+ `pandas` for data manipulation\n",
    "+ `datetime` for using time series data\n",
    "+ `unicode` for decode Farsi characters\n",
    "+ `jdatetime` for work with Jalali dates"
   ]
  },
  {
   "cell_type": "code",
   "execution_count": 3,
   "metadata": {},
   "outputs": [],
   "source": [
    "import requests\n",
    "from bs4 import BeautifulSoup\n",
    "import pandas as pd\n",
    "from datetime import datetime\n",
    "from unidecode import unidecode\n",
    "import jdatetime "
   ]
  },
  {
   "cell_type": "markdown",
   "metadata": {},
   "source": [
    "DigiKala comments different features. One important one is the date of comment, its format is `'yyyy month_name dd'` so it is necessary to convert them into a proper shape. Following function will do this for you."
   ]
  },
  {
   "cell_type": "code",
   "execution_count": null,
   "metadata": {},
   "outputs": [],
   "source": [
    "def change_date(date):\n",
    "    \"\"\"\n",
    "    date: Jalali date in format '%YYYY %MonthName %dd' string\n",
    "    return the corresponding Gregorian date\n",
    "    \"\"\"\n",
    "    # Specify number of each month\n",
    "    months = {\"فروردین\" : 1,\n",
    "              \"اردیبهشت\" : 2,\n",
    "              \"خرداد\" : 3,\n",
    "              \"تیر\" : 4,\n",
    "              \"مرداد\" : 5,\n",
    "              \"شهریور\" : 6,\n",
    "              \"مهر\" : 7,\n",
    "              \"آبان\" : 8,\n",
    "              \"آذر\" : 9,\n",
    "              \"دی\" : 10,\n",
    "              \"بهمن\" : 11,\n",
    "              \"اسفند\" : 12,}\n",
    "    # Extract day\n",
    "    day = int(unidecode(u'{}'.format(date.split()[0])))\n",
    "    \n",
    "    # Extract month\n",
    "    month = months[date.split()[1]]\n",
    "    \n",
    "    # Extract year\n",
    "    year = int(unidecode(u'{}'.format(date.split()[2])))\n",
    "    \n",
    "    # Transform calendar format of the date\n",
    "    date = jdatetime.date(year,month,day).togregorian()\n",
    "        \n",
    "    return date"
   ]
  }
 ],
 "metadata": {
  "kernelspec": {
   "display_name": "Python 3",
   "language": "python",
   "name": "python3"
  },
  "language_info": {
   "codemirror_mode": {
    "name": "ipython",
    "version": 3
   },
   "file_extension": ".py",
   "mimetype": "text/x-python",
   "name": "python",
   "nbconvert_exporter": "python",
   "pygments_lexer": "ipython3",
   "version": "3.8.5"
  }
 },
 "nbformat": 4,
 "nbformat_minor": 4
}

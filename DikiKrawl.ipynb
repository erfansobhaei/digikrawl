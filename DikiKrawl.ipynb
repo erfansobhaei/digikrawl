{
 "cells": [
  {
   "cell_type": "markdown",
   "metadata": {},
   "source": [
    "# DigiKrawl: DigiKala Comment Crawler"
   ]
  },
  {
   "cell_type": "markdown",
   "metadata": {},
   "source": [
    "## Prerequisites"
   ]
  },
  {
   "cell_type": "markdown",
   "metadata": {},
   "source": [
    "The following code snippet import required third-party libraries:\n",
    "+ `requests` for sending HTTP requests to DigiKala server\n",
    "+ `bs4` for parsing and crawling HTTP responses\n",
    "+ `pandas` for data manipulation\n",
    "+ `datetime` for using time series data\n",
    "+ `unicode` for decode Farsi characters\n",
    "+ `jdatetime` for work with Jalali dates"
   ]
  },
  {
   "cell_type": "code",
   "execution_count": 3,
   "metadata": {},
   "outputs": [],
   "source": [
    "import requests\n",
    "from bs4 import BeautifulSoup\n",
    "import pandas as pd\n",
    "from datetime import datetime\n",
    "from unidecode import unidecode\n",
    "import jdatetime "
   ]
  }
 ],
 "metadata": {
  "kernelspec": {
   "display_name": "Python 3",
   "language": "python",
   "name": "python3"
  },
  "language_info": {
   "codemirror_mode": {
    "name": "ipython",
    "version": 3
   },
   "file_extension": ".py",
   "mimetype": "text/x-python",
   "name": "python",
   "nbconvert_exporter": "python",
   "pygments_lexer": "ipython3",
   "version": "3.8.5"
  }
 },
 "nbformat": 4,
 "nbformat_minor": 4
}
